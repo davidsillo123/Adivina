{
 "cells": [
  {
   "cell_type": "code",
   "execution_count": null,
   "metadata": {
    "collapsed": true
   },
   "outputs": [],
   "source": [
    "import random as ran \n",
    "a = ran.randint(1,11)\n",
    "\n",
    "i=1 \n",
    "while 1 <=3:\n",
    "    i+=1\n",
    "    b = int(input(\"adivine un numero del 1 al 10\"))\n",
    "    \n",
    "    if a == b:\n",
    "        print(\"es correcto\")\n",
    "    else:\n",
    "        print(\"no es correcto, sigue intentando\")"
   ]
  },
  {
   "cell_type": "code",
   "execution_count": null,
   "metadata": {
    "collapsed": true
   },
   "outputs": [],
   "source": []
  }
 ],
 "metadata": {
  "kernelspec": {
   "display_name": "Python 3",
   "language": "python",
   "name": "python3"
  },
  "language_info": {
   "codemirror_mode": {
    "name": "ipython",
    "version": 3
   },
   "file_extension": ".py",
   "mimetype": "text/x-python",
   "name": "python",
   "nbconvert_exporter": "python",
   "pygments_lexer": "ipython3",
   "version": "3.6.1"
  }
 },
 "nbformat": 4,
 "nbformat_minor": 2
}
