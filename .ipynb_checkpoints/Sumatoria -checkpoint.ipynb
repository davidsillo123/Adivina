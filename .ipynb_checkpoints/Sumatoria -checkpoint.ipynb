{
 "cells": [
  {
   "cell_type": "code",
   "execution_count": 25,
   "metadata": {},
   "outputs": [
    {
     "name": "stdout",
     "output_type": "stream",
     "text": [
      "escribe un numero 0\n",
      "escribe otro numero 3\n",
      "6\n"
     ]
    }
   ],
   "source": [
    "n = int(input(\"escribe un numero \"))\n",
    "m = int(input(\"escribe otro numero \"))\n",
    "\n",
    "x = 0\n",
    "\n",
    "for i in range(n,m+1):\n",
    "    sumatoria = i + x \n",
    "    x = sumatoria \n",
    "print(x)\n",
    "    \n"
   ]
  },
  {
   "cell_type": "code",
   "execution_count": null,
   "metadata": {},
   "outputs": [],
   "source": [
    "\n"
   ]
  },
  {
   "cell_type": "code",
   "execution_count": null,
   "metadata": {
    "collapsed": true
   },
   "outputs": [],
   "source": []
  }
 ],
 "metadata": {
  "kernelspec": {
   "display_name": "Python 3",
   "language": "python",
   "name": "python3"
  }
 },
 "nbformat": 4,
 "nbformat_minor": 2
}
