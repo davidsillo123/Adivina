{
 "cells": [
  {
   "cell_type": "code",
   "execution_count": 63,
   "metadata": {
    "collapsed": true
   },
   "outputs": [],
   "source": [
    "%matplotlib inline \n",
    "\n",
    "import sympy as sym\n",
    "import numpy as np\n",
    "import matplotlib.pylab as plt\n",
    "import random\n",
    "\n",
    "from sympy import init_printing; init_printing(use_latex='mathjax')\n",
    "from IPython.display import display\n",
    "from IPython.display import HTML\n",
    "from scipy.integrate import odeint\n",
    "from ipywidgets import *\n",
    "\n",
    "from sympy import*\n",
    "import pandas as pd"
   ]
  },
  {
   "cell_type": "code",
   "execution_count": 64,
   "metadata": {
    "collapsed": true
   },
   "outputs": [],
   "source": [
    "montoinicial=10000\n",
    "tasaprestamo=.1\n",
    "prestamo=montoinicial*tasaprestamo\n",
    "tasainteres=.05"
   ]
  },
  {
   "cell_type": "code",
   "execution_count": 65,
   "metadata": {
    "collapsed": true
   },
   "outputs": [],
   "source": [
    "montodisponible=montoinicial+prestamo\n",
    "rendimiento=.12"
   ]
  },
  {
   "cell_type": "code",
   "execution_count": 66,
   "metadata": {
    "collapsed": true
   },
   "outputs": [],
   "source": [
    "subtotal=rendimiento*montodisponible+montodisponible\n",
    "pagoprestamo=prestamo+tasainteres*prestamo"
   ]
  },
  {
   "cell_type": "code",
   "execution_count": 67,
   "metadata": {
    "collapsed": true
   },
   "outputs": [],
   "source": [
    "montofinal=subtotal-pagoprestamo"
   ]
  },
  {
   "cell_type": "code",
   "execution_count": 68,
   "metadata": {
    "collapsed": true
   },
   "outputs": [],
   "source": [
    "rendimiento=(montofinal-montoinicial)/montoinicial"
   ]
  },
  {
   "cell_type": "code",
   "execution_count": 69,
   "metadata": {},
   "outputs": [
    {
     "name": "stdout",
     "output_type": "stream",
     "text": [
      "Monto inicial: $10000pesos.\n",
      "Pedi prestado: $1000.0pesos.\n",
      "inverti: $11000.0pesos.\n",
      "Termine con: $12320.0pesos.\n",
      "pago prestamo: $1050.0pesos.\n",
      "Monto final: $11270.0pesos.\n",
      "rendimiento: $12.7pesos.\n"
     ]
    }
   ],
   "source": [
    "print(\"Monto inicial: $\"+str(montoinicial)+\"pesos.\")\n",
    "print(\"Pedi prestado: $\"+str(prestamo)+\"pesos.\")\n",
    "print(\"inverti: $\"+str(montodisponible)+\"pesos.\")\n",
    "print(\"Termine con: $\"+str(subtotal)+\"pesos.\")\n",
    "print(\"pago prestamo: $\"+str(pagoprestamo)+\"pesos.\")\n",
    "print(\"Monto final: $\"+str(montofinal)+\"pesos.\")\n",
    "print(\"rendimiento: $\"+str(rendimiento*100)+\"pesos.\")"
   ]
  },
  {
   "cell_type": "code",
   "execution_count": 70,
   "metadata": {},
   "outputs": [
    {
     "name": "stdout",
     "output_type": "stream",
     "text": [
      "Monto inicial: $10000pesos.\n",
      "Pedi prestado: $3000.0pesos.\n",
      "inverti: $13000.0pesos.\n",
      "Termine con: $15975.544807473165pesos.\n",
      "pago prestamo: $3150.0pesos.\n",
      "Monto final: $12825.544807473165pesos.\n",
      "rendimiento: $28.25544807473165%.\n"
     ]
    }
   ],
   "source": [
    "montoinicial=10000\n",
    "tasaprestamo=.3\n",
    "prestamo=montoinicial*tasaprestamo\n",
    "tasainteres=.05\n",
    "\n",
    "montodisponible=montoinicial+prestamo\n",
    "\n",
    "rendimiento=np.random.normal(.12,.20)\n",
    "\n",
    "subtotal=rendimiento*montodisponible+montodisponible\n",
    "pagoprestamo=prestamo+tasainteres*prestamo\n",
    "\n",
    "montofinal=subtotal-pagoprestamo\n",
    "\n",
    "rendimiento=(montofinal-montoinicial)/montoinicial\n",
    "\n",
    "print(\"Monto inicial: $\"+str(montoinicial)+\"pesos.\")\n",
    "print(\"Pedi prestado: $\"+str(prestamo)+\"pesos.\")\n",
    "print(\"inverti: $\"+str(montodisponible)+\"pesos.\")\n",
    "print(\"Termine con: $\"+str(subtotal)+\"pesos.\")\n",
    "print(\"pago prestamo: $\"+str(pagoprestamo)+\"pesos.\")\n",
    "print(\"Monto final: $\"+str(montofinal)+\"pesos.\")\n",
    "print(\"rendimiento: $\"+str(rendimiento*100)+\"%.\")"
   ]
  },
  {
   "cell_type": "code",
   "execution_count": 71,
   "metadata": {},
   "outputs": [
    {
     "data": {
      "text/plain": [
       "<matplotlib.text.Text at 0x115964940>"
      ]
     },
     "execution_count": 71,
     "metadata": {},
     "output_type": "execute_result"
    },
    {
     "data": {
      "image/png": "[encoded data removed]",
      "text/plain": [
       "<matplotlib.figure.Figure at 0x11593e9e8>"
      ]
     },
     "metadata": {},
     "output_type": "display_data"
    }
   ],
   "source": [
    "plt.hist(np.random.normal(.12,.2,10000),normed=True,bins=100)\n",
    "plt.ylabel(\"probabilidad\")\n",
    "plt.xlabel(\"valores\")"
   ]
  },
  {
   "cell_type": "code",
   "execution_count": 72,
   "metadata": {
    "collapsed": true
   },
   "outputs": [],
   "source": [
    "def SP500():\n",
    "    montoinicial=10000\n",
    "    tasaprestamo=.8\n",
    "    prestamo=montoinicial*tasaprestamo\n",
    "    tasainteres=.05\n",
    "\n",
    "    montodisponible=montoinicial+prestamo\n",
    "\n",
    "    rendimiento=np.random.normal(.12,.20)\n",
    "\n",
    "    subtotal=rendimiento*montodisponible+montodisponible\n",
    "    pagoprestamo=prestamo+tasainteres*prestamo\n",
    "\n",
    "    montofinal=subtotal-pagoprestamo\n",
    "\n",
    "    rendimiento=(montofinal-montoinicial)/montoinicial\n",
    "    return rendimiento"
   ]
  },
  {
   "cell_type": "code",
   "execution_count": 73,
   "metadata": {},
   "outputs": [
    {
     "ename": "TypeError",
     "evalue": "'float' object is not iterable",
     "output_type": "error",
     "traceback": [
      "\u001b[0;31m---------------------------------------------------------------------------\u001b[0m",
      "\u001b[0;31mTypeError\u001b[0m                                 Traceback (most recent call last)",
      "\u001b[0;32m<ipython-input-73-66bbd2a38188>\u001b[0m in \u001b[0;36m<module>\u001b[0;34m()\u001b[0m\n\u001b[1;32m      2\u001b[0m \u001b[0mrendimientos\u001b[0m\u001b[0;34m=\u001b[0m\u001b[0mnp\u001b[0m\u001b[0;34m.\u001b[0m\u001b[0mzeros\u001b[0m\u001b[0;34m(\u001b[0m\u001b[0mN\u001b[0m\u001b[0;34m)\u001b[0m\u001b[0;34m\u001b[0m\u001b[0m\n\u001b[1;32m      3\u001b[0m \u001b[0;34m\u001b[0m\u001b[0m\n\u001b[0;32m----> 4\u001b[0;31m \u001b[0;32mfor\u001b[0m \u001b[0mi\u001b[0m\u001b[0;34m,\u001b[0m\u001b[0mj\u001b[0m \u001b[0;32min\u001b[0m \u001b[0menumerate\u001b[0m \u001b[0;34m(\u001b[0m\u001b[0mrendimiento\u001b[0m\u001b[0;34m)\u001b[0m\u001b[0;34m:\u001b[0m\u001b[0;34m\u001b[0m\u001b[0m\n\u001b[0m\u001b[1;32m      5\u001b[0m     \u001b[0mrendimientos\u001b[0m\u001b[0;34m[\u001b[0m\u001b[0mi\u001b[0m\u001b[0;34m]\u001b[0m\u001b[0;34m=\u001b[0m \u001b[0mSP500\u001b[0m\u001b[0;34m(\u001b[0m\u001b[0;34m)\u001b[0m\u001b[0;34m\u001b[0m\u001b[0m\n\u001b[1;32m      6\u001b[0m \u001b[0;34m\u001b[0m\u001b[0m\n",
      "\u001b[0;31mTypeError\u001b[0m: 'float' object is not iterable"
     ]
    }
   ],
   "source": [
    "N=100\n",
    "rendimientos=np.zeros(N)\n",
    "\n",
    "for i,j in enumerate (rendimiento):\n",
    "    rendimientos[i]= SP500()\n",
    "\n",
    "print(\"rendimiento promedio:\"+str(np.mean(rendimientos)*100)+\"%\")\n",
    "print(\"rendimiento tiene un volatilidad:\"+str(np.std(rendimientos)*100)+\"%\")"
   ]
  },
  {
   "cell_type": "code",
   "execution_count": 60,
   "metadata": {},
   "outputs": [
    {
     "data": {
      "image/png": "[encoded data removed]",
      "text/plain": [
       "<matplotlib.figure.Figure at 0x114c489e8>"
      ]
     },
     "metadata": {},
     "output_type": "display_data"
    }
   ],
   "source": [
    "plt.hist(rendimientos,normed=True,bins=100);"
   ]
  },
  {
   "cell_type": "code",
   "execution_count": 61,
   "metadata": {},
   "outputs": [
    {
     "ename": "TypeError",
     "evalue": "'float' object is not iterable",
     "output_type": "error",
     "traceback": [
      "\u001b[0;31m---------------------------------------------------------------------------\u001b[0m",
      "\u001b[0;31mTypeError\u001b[0m                                 Traceback (most recent call last)",
      "\u001b[0;32m<ipython-input-61-464a741d3e29>\u001b[0m in \u001b[0;36m<module>\u001b[0;34m()\u001b[0m\n\u001b[1;32m      2\u001b[0m \u001b[0mrendimientos\u001b[0m\u001b[0;34m=\u001b[0m\u001b[0mnp\u001b[0m\u001b[0;34m.\u001b[0m\u001b[0mzeros\u001b[0m\u001b[0;34m(\u001b[0m\u001b[0mN\u001b[0m\u001b[0;34m)\u001b[0m\u001b[0;34m\u001b[0m\u001b[0m\n\u001b[1;32m      3\u001b[0m \u001b[0;34m\u001b[0m\u001b[0m\n\u001b[0;32m----> 4\u001b[0;31m \u001b[0;32mfor\u001b[0m \u001b[0mi\u001b[0m\u001b[0;34m,\u001b[0m\u001b[0mj\u001b[0m \u001b[0;32min\u001b[0m \u001b[0menumerate\u001b[0m \u001b[0;34m(\u001b[0m\u001b[0mrendimiento\u001b[0m\u001b[0;34m)\u001b[0m\u001b[0;34m:\u001b[0m\u001b[0;34m\u001b[0m\u001b[0m\n\u001b[0m\u001b[1;32m      5\u001b[0m     \u001b[0mrendimientos\u001b[0m\u001b[0;34m[\u001b[0m\u001b[0mi\u001b[0m\u001b[0;34m]\u001b[0m\u001b[0;34m=\u001b[0m \u001b[0mSP500\u001b[0m\u001b[0;34m(\u001b[0m\u001b[0;34m)\u001b[0m\u001b[0;34m\u001b[0m\u001b[0m\n\u001b[1;32m      6\u001b[0m \u001b[0;34m\u001b[0m\u001b[0m\n",
      "\u001b[0;31mTypeError\u001b[0m: 'float' object is not iterable"
     ]
    }
   ],
   "source": [
    "N=100\n",
    "rendimientos=np.zeros(N)\n",
    "\n",
    "for i,j in enumerate (rendimiento):\n",
    "    rendimientos[i]= SP500()\n",
    "\n",
    "print(\"rendimiento promedio:\"+str(np.mean(rendimientos)*100)+\"%\")\n",
    "print(\"rendimiento tiene un volatilidad:\"+str(np.std(rendimientos)*100)+\"%\")\n",
    "plt.hist(rendimientos,normed=True,bins=100);\n",
    "u=np.mean(rendimientos)\n",
    "std=np.std(rendimientos)\n",
    "df=pd.DataFrame([[u-std,u+std],[u-2*std,u+2*std],[u-3*std,u+3*std]])\n",
    "df.index=[\"68%\",\"95%\",\"99%\"]\n",
    "df"
   ]
  },
  {
   "cell_type": "code",
   "execution_count": null,
   "metadata": {
    "collapsed": true
   },
   "outputs": [],
   "source": []
  },
  {
   "cell_type": "code",
   "execution_count": null,
   "metadata": {
    "collapsed": true
   },
   "outputs": [],
   "source": []
  }
 ],
 "metadata": {
  "kernelspec": {
   "display_name": "Python 3",
   "language": "python",
   "name": "python3"
  },
  "language_info": {
   "codemirror_mode": {
    "name": "ipython",
    "version": 3
   },
   "file_extension": ".py",
   "mimetype": "text/x-python",
   "name": "python",
   "nbconvert_exporter": "python",
   "pygments_lexer": "ipython3",
   "version": "3.6.1"
  }
 },
 "nbformat": 4,
 "nbformat_minor": 2
}
