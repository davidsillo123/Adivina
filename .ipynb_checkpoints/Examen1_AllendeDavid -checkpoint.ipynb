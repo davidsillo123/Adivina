{
 "cells": [
  {
   "cell_type": "markdown",
   "metadata": {},
   "source": [
    "# Examen Módulo 1 - Ecuaciones diferenciales. <font color =blue> Tipo de examen 1.  </font>\n",
    "\n",
    "Lea cuidadosamente las siguientes indicaciones antes de comenzar el examen:\n",
    "\n",
    "- Para resolver el examen edite este mismo archivo y renómbrelo de la siguiente manera: *Examen1_ApellidoNombre*, donde *ApellidoNombre* corresponde a su apellido paterno con la inicial en mayúscula, seguido de su primer nombre con la inicial en mayúscula **sin acentos**. Por ejemplo, en mi caso el nombre del archivo sería Examen1_LopezMichel.\n",
    "- Resuelva los puntos en el espacio provisto. Si requiere agregar más celdas para código o escritura, hágalo.\n",
    "- Recuerde que también se está evaluando su capacidad de interpretar los resultados. Escriba sus interpretaciones/conclusiones en celdas utilizando *Markdown*.\n",
    "- El formato de presentación de todo el examen en general debe ser adecuado. Use tamaños de letra, colores, etiquetas, etcétera.\n",
    "- No se resuelven dudas de ningún tipo por los profesores de la asignatura. Por favor, absténgase de preguntar.\n",
    "- Revise bien el tipo de examen. Sólo se le calificará si realiza el tipo de examen asignado."
   ]
  },
  {
   "cell_type": "code",
   "execution_count": 2,
   "metadata": {
    "collapsed": true
   },
   "outputs": [],
   "source": [
    "%matplotlib inline \n",
    "\n",
    "import sympy as sym\n",
    "import numpy as np\n",
    "import matplotlib.pylab as plt\n",
    "\n",
    "from sympy import init_printing; init_printing(use_latex='mathjax')\n",
    "from IPython.display import display\n",
    "from IPython.display import HTML\n",
    "from scipy.integrate import odeint\n",
    "from ipywidgets import *\n",
    "\n",
    "Ley_Newton_enfriamiento='<iframe src=https://es.wikipedia.org/wiki/Ley_del_enfriamiento_de_Newton?useformat=mobile width=700 height=350></iframe>'\n",
    "Torricelli='<iframe src=https://en.wikipedia.org/wiki/Torricelli%27s_law?useformat=mobile width=700 height=350></iframe>'\n",
    "Caidalibre ='<iframe src=https://es.wikipedia.org/wiki/Ca%C3%ADda_libre?useformat=mobile width=700 height=350></iframe>'\n",
    "\n",
    "sym.var('k t x')\n",
    "\n",
    "T = sym.Function('T')"
   ]
  },
  {
   "cell_type": "code",
   "execution_count": null,
   "metadata": {
    "collapsed": true
   },
   "outputs": [],
   "source": []
  },
  {
   "cell_type": "markdown",
   "metadata": {},
   "source": [
    "# Primer punto (50 puntos).\n",
    "\n",
    "## Introducción al problema. \n",
    "\n",
    "## Ley de Newton del enfriamiento\n",
    "\n",
    "La ley empírica de Newton, relativa al enfriamiento de un objeto, se expresa con la ecuación diferencial lineal de primer orden\n",
    "\n",
    "$$\\frac{dT}{dt} = k(T - Tm) $$\n",
    "\n",
    "en que $k$ es una constante de proporcionalidad, $T(r)$ es la temperatura del objeto cuando $t > 0$\n",
    "y $T_m$ es la temperatura ambiente; o sea, la temperatura del medio que rodea al objeto. \n",
    "\n",
    "Supondremos que $T_m$ es constante."
   ]
  },
  {
   "cell_type": "markdown",
   "metadata": {},
   "source": [
    "### Para más información revise la siguiente pagina. "
   ]
  },
  {
   "cell_type": "code",
   "execution_count": 6,
   "metadata": {
    "collapsed": true
   },
   "outputs": [],
   "source": [
    "HTML(Ley_Newton_enfriamiento)"
   ]
  },
  {
   "cell_type": "markdown",
   "metadata": {},
   "source": [
    "# <font color = red> Problema 1 <font>\n",
    "\n",
    "## ¿Cuánto esperar para tomar el café?\n",
    "\n",
    "Primero calentamos agua a $80°C$. Posteriormente agregamos café al vaso con el agua caliente. Después realizamos la medición de la temperatura ambiente, la cual fue de $24°C$. Realiza las siguientes actividades:\n",
    "\n",
    "1. (20 puntos) Simula el sistema en un tiempo de $0$ a $120$ unidades de tiempo  con una constante de proporcionalidad $k=-0.0565$,  \n",
    "2. (15 puntos) \n",
    "    - (10 puntos) Grafique la solución.\n",
    "    - (5 puntos) Supoga que cada unidad de tiempo corresponde a un minuto. ¿En que tiempo aproximadamente la temperatura es menor a $30°C$?\n",
    "3. (15 puntos)\n",
    "    - (10 puntos) ¿Qué interpretación puedes decir para valores de $k >0$?\n",
    "    - (5  puntos) Busca una constante de proporcionalidad $k$ en un rango ( de $-0.2$ a $0.2$ con incremento de 0.01), para la cual el cafe tiene una temperatura menor de $30°C$ en un tiempo a 20 minutos."
   ]
  },
  {
   "cell_type": "markdown",
   "metadata": {
    "collapsed": true
   },
   "source": [
    "# <font color = black> Respuesta 1 <font>"
   ]
  },
  {
   "cell_type": "code",
   "execution_count": 7,
   "metadata": {
    "collapsed": true
   },
   "outputs": [],
   "source": [
    "## Librerías para integración numérica\n",
    "from scipy.integrate import odeint\n",
    "\n",
    "# Modelo de capitalización continua\n",
    "def newton(T, t, k):\n",
    "    return k * (T - 24 )"
   ]
  },
  {
   "cell_type": "code",
   "execution_count": 8,
   "metadata": {
    "collapsed": true
   },
   "outputs": [],
   "source": [
    "#### Librería para cálculo numérico\n",
    "import numpy as np\n",
    "# Librerías para gráficos\n",
    "import matplotlib.pyplot as plt\n",
    "# Para que se muestren las gráficas en la misma ventana\n",
    "%matplotlib inline\n",
    "# Librería para widgets de jupyter\n",
    "from ipywidgets import *"
   ]
  },
  {
   "cell_type": "markdown",
   "metadata": {
    "collapsed": true
   },
   "source": [
    "# <font color = black> Respuesta 2 <font>"
   ]
  },
  {
   "cell_type": "code",
   "execution_count": 19,
   "metadata": {},
   "outputs": [
    {
     "data": {
      "application/vnd.jupyter.widget-view+json": {
       "model_id": "ded0ff5726ed44ccbd00b53897baa1f6"
      }
     },
     "metadata": {},
     "output_type": "display_data"
    }
   ],
   "source": [
    "def interes_continuo(C_0, meta, k):\n",
    "    \n",
    "    # Vector de periodos\n",
    "    tt = np.linspace(0,120)\n",
    "    # Vector de capitales por periodo\n",
    "    CC = odeint(newton, 80, tt, args = (k,))\n",
    "    # Gráfico\n",
    "    plt.figure(num=1); plt.clf()                # Figura 1, borrar lo que contenga\n",
    "    plt.plot(tt, CC,'-',linewidth=3.0)          # Se grafica la evolución de los capitales\n",
    "    plt.plot(tt,meta*np.ones(len(tt)),'--k')    # Se grafica la meta\n",
    "    plt.xlabel('t')                             # Etiqueta eje x\n",
    "    plt.ylabel('T')                             # Etiqueta eje y\n",
    "    plt.grid(True)                              # Malla en la gráfica\n",
    "    plt.show()                                  # Mostrar la figura\n",
    "    \n",
    "interact_manual(interes_continuo, C_0=fixed(10000), meta=(0,150,5), k=fixed(-0.0565));"
   ]
  },
  {
   "cell_type": "markdown",
   "metadata": {},
   "source": [
    "# <font color = black> Respuesta 2:  b)  Tiempo aproximado = 40 min <font>\n",
    "# <font color = black> Respuesta 3 <font>"
   ]
  },
  {
   "cell_type": "code",
   "execution_count": 10,
   "metadata": {},
   "outputs": [
    {
     "data": {
      "application/vnd.jupyter.widget-view+json": {
       "model_id": "29045f9a52fe4d779456fd5b852fb1fa"
      }
     },
     "metadata": {},
     "output_type": "display_data"
    }
   ],
   "source": [
    "def interes_continuo(C_0, meta, k):\n",
    "    \n",
    "    # Vector de periodos\n",
    "    tt = np.linspace(0,120)\n",
    "    # Vector de capitales por periodo\n",
    "    CC = odeint(newton, 80, tt, args = (k,))\n",
    "    # Gráfico\n",
    "    plt.figure(num=1); plt.clf()                # Figura 1, borrar lo que contenga\n",
    "    plt.plot(tt, CC,'-',linewidth=3.0)          # Se grafica la evolución de los capitales\n",
    "    plt.plot(tt,meta*np.ones(len(tt)),'--k')    # Se grafica la meta\n",
    "    plt.xlabel('t')                             # Etiqueta eje x\n",
    "    plt.ylabel('T')                             # Etiqueta eje y\n",
    "    plt.grid(True)                              # Malla en la gráfica\n",
    "    plt.show()                                  # Mostrar la figura\n",
    "    \n",
    "interact_manual(interes_continuo, C_0=fixed(10000), meta=(0,150,5), k=(-2,2,.1));"
   ]
  },
  {
   "cell_type": "markdown",
   "metadata": {},
   "source": [
    "# <font color = black> K > 0 Los valores de van incrementado <font>"
   ]
  },
  {
   "cell_type": "code",
   "execution_count": 11,
   "metadata": {},
   "outputs": [
    {
     "data": {
      "application/vnd.jupyter.widget-view+json": {
       "model_id": "ca16ae534cac492e95f515da9775f13d"
      }
     },
     "metadata": {},
     "output_type": "display_data"
    }
   ],
   "source": [
    "def interes_continuo(C_0, meta, k):\n",
    "    \n",
    "    # Vector de periodos\n",
    "    tt = np.linspace(0,120)\n",
    "    # Vector de capitales por periodo\n",
    "    CC = odeint(newton, 80, tt, args = (k,))\n",
    "    # Gráfico\n",
    "    plt.figure(num=1); plt.clf()                # Figura 1, borrar lo que contenga\n",
    "    plt.plot(tt, CC,'-',linewidth=3.0)          # Se grafica la evolución de los capitales\n",
    "    plt.plot(tt,meta*np.ones(len(tt)),'--k')    # Se grafica la meta\n",
    "    plt.xlabel('t')                             # Etiqueta eje x\n",
    "    plt.ylabel('T')                             # Etiqueta eje y\n",
    "    plt.grid(True)                              # Malla en la gráfica\n",
    "    plt.show()                                  # Mostrar la figura\n",
    "    \n",
    "interact_manual(interes_continuo, C_0=fixed(10000), meta=(0,150,5), k=fixed(-0.2));"
   ]
  },
  {
   "cell_type": "markdown",
   "metadata": {},
   "source": [
    "# <font color = black> K = -0.2 la temperatura es menor a 30° en 20 min  <font>"
   ]
  },
  {
   "cell_type": "markdown",
   "metadata": {},
   "source": [
    "# Segundo punto (50 puntos).\n",
    "\n",
    "## Introducción al problema. \n",
    "\n",
    "## Caída libre\n",
    "\n",
    "En la caída libre ideal, se desprecia la resistencia aerodinámica que presenta el aire al movimiento del cuerpo, analizando lo que pasaría en el vacío. En esas condiciones, la aceleración que adquiriría el cuerpo sería debida exclusivamente a la gravedad, siendo independiente de su masa.\n",
    "\n",
    "$$\n",
    "\\begin{eqnarray}\n",
    "\\frac{ds}{dt} &=& v \\\\\n",
    "\\frac{dv}{dt} &=& -g\n",
    "\\end{eqnarray}\n",
    "$$\n",
    "\n",
    "O visto el sistema en forma canónica\n",
    "\n",
    "$$\n",
    "\\begin{eqnarray}\n",
    "\\dot{x}_1 &=& x_2 \\\\\n",
    "\\dot{x}_2 &=& -g\n",
    "\\end{eqnarray}\n",
    "$$\n"
   ]
  },
  {
   "cell_type": "markdown",
   "metadata": {},
   "source": [
    "### Para más información revise la siguiente pagina. "
   ]
  },
  {
   "cell_type": "code",
   "execution_count": 7,
   "metadata": {
    "collapsed": true
   },
   "outputs": [],
   "source": [
    "HTML(Caidalibre)"
   ]
  },
  {
   "cell_type": "markdown",
   "metadata": {},
   "source": [
    "# <font color = red> Problema 2 <font>\n",
    "\n",
    "## Deja caer una pelota\n",
    "\n",
    "Desde un edificio de altura de $314$ metros se deja caer una pelota, que tarda 8 segundos en llegar al piso. ¿con que velocidad impacta la pelota contra el piso?\n",
    "\n",
    "\n",
    "1. (20 puntos) Simula el sistema en un tiempo de $0$ a $8$ unidades de tiempo  con una constante de gravedad $g=-9.8$,  \n",
    "2. (15 puntos) \n",
    "    - (10 puntos) Grafique la solución.\n",
    "    - (5 puntos) Supoga que cada unidad de tiempo corresponde a un segundo. ¿En que tiempo aproximadamente la pelota esta a la mitad del edificio?\n",
    "3. (15 puntos)\n",
    "    - (10 puntos) ¿Qué interpretación puedes decir para una posicion inicial de $314 m$ y una velocidad de $30 m/s$ ?\n",
    "    - (5  puntos) ¿Que altura aproximadamente tendra en $10s$ para el incisio anterior?\n",
    "\n",
    "\n",
    "\n"
   ]
  },
  {
   "cell_type": "code",
   "execution_count": 21,
   "metadata": {
    "collapsed": true
   },
   "outputs": [],
   "source": [
    "import numpy as np\n",
    "import matplotlib.pyplot as plt\n",
    "\n",
    "# g        gravedad\n",
    "# h_0      altura inicial\n",
    "# v_0      velocidad inicial\n",
    "# sim      tiempo de simulacion\n",
    "# dt       intervalo de tiempo\n",
    "# tabla    True = imprime tabla\n",
    "# grafica  True = imprime grafica\n",
    "def caida_libre(g, h_0, v_0, sim, dt, tabla=False, grafica=False):\n",
    "    \"\"\"Calcula la posicion de una pelota despues de t unidades de tiempo al\n",
    "    haber sido soltada a una altura h del suelo.\"\"\"\n",
    "    \n",
    "    t_sim = int(sim / dt) # Unidades de tiempo.\n",
    "    \n",
    "    t = np.zeros(1000) # Vector de instantes de tiempo.\n",
    "    h = np.zeros(1000) # Vector de alturas.\n",
    "    v = np.zeros(1000) # Vector de velocidades.\n",
    "    \n",
    "    h[0] = h_0 # Altura inicial\n",
    "    v[0] = v_0 # Velocidad inicial\n",
    "    \n",
    "    for i in range(t_sim):\n",
    "        t[i + 1] = t[i] + dt\n",
    "        \n",
    "        # Si la pelota toco el piso, hazla rebotar!\n",
    "        if h[i] < 0:\n",
    "            v[i + 1] = 0.7 * abs(v[i])\n",
    "        else:\n",
    "            v[i + 1] = v[i] + g * dt\n",
    "\n",
    "        h[i + 1] = h[i] + v[i + 1] * dt\n",
    "\n",
    "    if tabla:\n",
    "        n = h.nonzero()[0].shape[0]\n",
    "        \n",
    "        print('{:<8} {:<10} {:<11}'.format('tiempo', 'posicion', 'velocidad'))\n",
    "        \n",
    "        for i in range(n):\n",
    "            print('{:<08.3f} {:<10.3f} {:<11.3f}'.format(t[i], h[i], v[i]))\n",
    "\n",
    "    if grafica:\n",
    "        # Grafica la solucion.\n",
    "        plt.plot(t[h.nonzero()], h[h.nonzero()], '-x', color='red')\n",
    "        plt.xlabel('tiempo (s)')\n",
    "        plt.ylabel('altura (m)')\n",
    "        plt.show()\n",
    "\n"
   ]
  },
  {
   "cell_type": "markdown",
   "metadata": {
    "collapsed": true
   },
   "source": [
    "# <font color = black> Punto 1 y punto 2 <font>"
   ]
  },
  {
   "cell_type": "code",
   "execution_count": 22,
   "metadata": {},
   "outputs": [
    {
     "data": {
      "image/png": "[encoded data removed]",
      "text/plain": [
       "<matplotlib.figure.Figure at 0x11850d828>"
      ]
     },
     "metadata": {},
     "output_type": "display_data"
    }
   ],
   "source": [
    "caida_libre(-9.8, 314.0, 0.0, 8, 0.1, grafica=True)"
   ]
  },
  {
   "cell_type": "markdown",
   "metadata": {
    "collapsed": true
   },
   "source": [
    "# <font color = black> ¿En qué tiempo aproximadamente la pelota está a la mitad del edificio? 5.6 s  <font>"
   ]
  },
  {
   "cell_type": "code",
   "execution_count": 23,
   "metadata": {},
   "outputs": [
    {
     "name": "stdout",
     "output_type": "stream",
     "text": [
      "tiempo   posicion   velocidad  \n",
      "0.000000 314.000    0.000      \n",
      "0.100000 313.902    -0.980     \n",
      "0.200000 313.706    -1.960     \n",
      "0.300000 313.412    -2.940     \n",
      "0.400000 313.020    -3.920     \n",
      "0.500000 312.530    -4.900     \n",
      "0.600000 311.942    -5.880     \n",
      "0.700000 311.256    -6.860     \n",
      "0.800000 310.472    -7.840     \n",
      "0.900000 309.590    -8.820     \n",
      "1.000000 308.610    -9.800     \n",
      "1.100000 307.532    -10.780    \n",
      "1.200000 306.356    -11.760    \n",
      "1.300000 305.082    -12.740    \n",
      "1.400000 303.710    -13.720    \n",
      "1.500000 302.240    -14.700    \n",
      "1.600000 300.672    -15.680    \n",
      "1.700000 299.006    -16.660    \n",
      "1.800000 297.242    -17.640    \n",
      "1.900000 295.380    -18.620    \n",
      "2.000000 293.420    -19.600    \n",
      "2.100000 291.362    -20.580    \n",
      "2.200000 289.206    -21.560    \n",
      "2.300000 286.952    -22.540    \n",
      "2.400000 284.600    -23.520    \n",
      "2.500000 282.150    -24.500    \n",
      "2.600000 279.602    -25.480    \n",
      "2.700000 276.956    -26.460    \n",
      "2.800000 274.212    -27.440    \n",
      "2.900000 271.370    -28.420    \n",
      "3.000000 268.430    -29.400    \n",
      "3.100000 265.392    -30.380    \n",
      "3.200000 262.256    -31.360    \n",
      "3.300000 259.022    -32.340    \n",
      "3.400000 255.690    -33.320    \n",
      "3.500000 252.260    -34.300    \n",
      "3.600000 248.732    -35.280    \n",
      "3.700000 245.106    -36.260    \n",
      "3.800000 241.382    -37.240    \n",
      "3.900000 237.560    -38.220    \n",
      "4.000000 233.640    -39.200    \n",
      "4.100000 229.622    -40.180    \n",
      "4.200000 225.506    -41.160    \n",
      "4.300000 221.292    -42.140    \n",
      "4.400000 216.980    -43.120    \n",
      "4.500000 212.570    -44.100    \n",
      "4.600000 208.062    -45.080    \n",
      "4.700000 203.456    -46.060    \n",
      "4.800000 198.752    -47.040    \n",
      "4.900000 193.950    -48.020    \n",
      "5.000000 189.050    -49.000    \n",
      "5.100000 184.052    -49.980    \n",
      "5.200000 178.956    -50.960    \n",
      "5.300000 173.762    -51.940    \n",
      "5.400000 168.470    -52.920    \n",
      "5.500000 163.080    -53.900    \n",
      "5.600000 157.592    -54.880    \n",
      "5.700000 152.006    -55.860    \n",
      "5.800000 146.322    -56.840    \n",
      "5.900000 140.540    -57.820    \n",
      "6.000000 134.660    -58.800    \n",
      "6.100000 128.682    -59.780    \n",
      "6.200000 122.606    -60.760    \n",
      "6.300000 116.432    -61.740    \n",
      "6.400000 110.160    -62.720    \n",
      "6.500000 103.790    -63.700    \n",
      "6.600000 97.322     -64.680    \n",
      "6.700000 90.756     -65.660    \n",
      "6.800000 84.092     -66.640    \n",
      "6.900000 77.330     -67.620    \n",
      "7.000000 70.470     -68.600    \n",
      "7.100000 63.512     -69.580    \n",
      "7.200000 56.456     -70.560    \n",
      "7.300000 49.302     -71.540    \n",
      "7.400000 42.050     -72.520    \n",
      "7.500000 34.700     -73.500    \n",
      "7.600000 27.252     -74.480    \n",
      "7.700000 19.706     -75.460    \n",
      "7.800000 12.062     -76.440    \n",
      "7.900000 4.320      -77.420    \n",
      "8.000000 -3.520     -78.400    \n"
     ]
    }
   ],
   "source": [
    "caida_libre(-9.8, 314.0, 0.0, 8, 0.1, tabla=True)"
   ]
  },
  {
   "cell_type": "markdown",
   "metadata": {
    "collapsed": true
   },
   "source": [
    "# <font color = black> Interpretación: La pelota es lanzada hacia arriba <font>"
   ]
  },
  {
   "cell_type": "code",
   "execution_count": 25,
   "metadata": {},
   "outputs": [
    {
     "data": {
      "image/png": "[encoded data removed]",
      "text/plain": [
       "<matplotlib.figure.Figure at 0x11b977ba8>"
      ]
     },
     "metadata": {},
     "output_type": "display_data"
    }
   ],
   "source": [
    "caida_libre(-9.8,314, 30, 10, .1, grafica=True)"
   ]
  },
  {
   "cell_type": "markdown",
   "metadata": {},
   "source": [
    "<script>\n",
    "  $(document).ready(function(){\n",
    "    $('div.prompt').hide();\n",
    "    $('div.back-to-top').hide();\n",
    "    $('nav#menubar').hide();\n",
    "    $('.breadcrumb').hide();\n",
    "    $('.hidden-print').hide();\n",
    "  });\n",
    "</script>\n",
    "\n",
    "<footer id=\"attribution\" style=\"float:right; color:#808080; background:#fff;\">\n",
    "Created with Jupyter by Michel Emanuel López Franco.\n",
    "</footer>"
   ]
  },
  {
   "cell_type": "markdown",
   "metadata": {
    "collapsed": true
   },
   "source": [
    "# <font color = black> Altura: 119.1 m  <font>"
   ]
  },
  {
   "cell_type": "code",
   "execution_count": 24,
   "metadata": {},
   "outputs": [
    {
     "name": "stdout",
     "output_type": "stream",
     "text": [
      "tiempo   posicion   velocidad  \n",
      "0.000000 314.000    30.000     \n",
      "0.100000 316.902    29.020     \n",
      "0.200000 319.706    28.040     \n",
      "0.300000 322.412    27.060     \n",
      "0.400000 325.020    26.080     \n",
      "0.500000 327.530    25.100     \n",
      "0.600000 329.942    24.120     \n",
      "0.700000 332.256    23.140     \n",
      "0.800000 334.472    22.160     \n",
      "0.900000 336.590    21.180     \n",
      "1.000000 338.610    20.200     \n",
      "1.100000 340.532    19.220     \n",
      "1.200000 342.356    18.240     \n",
      "1.300000 344.082    17.260     \n",
      "1.400000 345.710    16.280     \n",
      "1.500000 347.240    15.300     \n",
      "1.600000 348.672    14.320     \n",
      "1.700000 350.006    13.340     \n",
      "1.800000 351.242    12.360     \n",
      "1.900000 352.380    11.380     \n",
      "2.000000 353.420    10.400     \n",
      "2.100000 354.362    9.420      \n",
      "2.200000 355.206    8.440      \n",
      "2.300000 355.952    7.460      \n",
      "2.400000 356.600    6.480      \n",
      "2.500000 357.150    5.500      \n",
      "2.600000 357.602    4.520      \n",
      "2.700000 357.956    3.540      \n",
      "2.800000 358.212    2.560      \n",
      "2.900000 358.370    1.580      \n",
      "3.000000 358.430    0.600      \n",
      "3.100000 358.392    -0.380     \n",
      "3.200000 358.256    -1.360     \n",
      "3.300000 358.022    -2.340     \n",
      "3.400000 357.690    -3.320     \n",
      "3.500000 357.260    -4.300     \n",
      "3.600000 356.732    -5.280     \n",
      "3.700000 356.106    -6.260     \n",
      "3.800000 355.382    -7.240     \n",
      "3.900000 354.560    -8.220     \n",
      "4.000000 353.640    -9.200     \n",
      "4.100000 352.622    -10.180    \n",
      "4.200000 351.506    -11.160    \n",
      "4.300000 350.292    -12.140    \n",
      "4.400000 348.980    -13.120    \n",
      "4.500000 347.570    -14.100    \n",
      "4.600000 346.062    -15.080    \n",
      "4.700000 344.456    -16.060    \n",
      "4.800000 342.752    -17.040    \n",
      "4.900000 340.950    -18.020    \n",
      "5.000000 339.050    -19.000    \n",
      "5.100000 337.052    -19.980    \n",
      "5.200000 334.956    -20.960    \n",
      "5.300000 332.762    -21.940    \n",
      "5.400000 330.470    -22.920    \n",
      "5.500000 328.080    -23.900    \n",
      "5.600000 325.592    -24.880    \n",
      "5.700000 323.006    -25.860    \n",
      "5.800000 320.322    -26.840    \n",
      "5.900000 317.540    -27.820    \n",
      "6.000000 314.660    -28.800    \n",
      "6.100000 311.682    -29.780    \n",
      "6.200000 308.606    -30.760    \n",
      "6.300000 305.432    -31.740    \n",
      "6.400000 302.160    -32.720    \n",
      "6.500000 298.790    -33.700    \n",
      "6.600000 295.322    -34.680    \n",
      "6.700000 291.756    -35.660    \n",
      "6.800000 288.092    -36.640    \n",
      "6.900000 284.330    -37.620    \n",
      "7.000000 280.470    -38.600    \n",
      "7.100000 276.512    -39.580    \n",
      "7.200000 272.456    -40.560    \n",
      "7.300000 268.302    -41.540    \n",
      "7.400000 264.050    -42.520    \n",
      "7.500000 259.700    -43.500    \n",
      "7.600000 255.252    -44.480    \n",
      "7.700000 250.706    -45.460    \n",
      "7.800000 246.062    -46.440    \n",
      "7.900000 241.320    -47.420    \n",
      "8.000000 236.480    -48.400    \n",
      "8.100000 231.542    -49.380    \n",
      "8.200000 226.506    -50.360    \n",
      "8.300000 221.372    -51.340    \n",
      "8.400000 216.140    -52.320    \n",
      "8.500000 210.810    -53.300    \n",
      "8.600000 205.382    -54.280    \n",
      "8.700000 199.856    -55.260    \n",
      "8.800000 194.232    -56.240    \n",
      "8.900000 188.510    -57.220    \n",
      "9.000000 182.690    -58.200    \n",
      "9.100000 176.772    -59.180    \n",
      "9.200000 170.756    -60.160    \n",
      "9.300000 164.642    -61.140    \n",
      "9.400000 158.430    -62.120    \n",
      "9.500000 152.120    -63.100    \n",
      "9.600000 145.712    -64.080    \n",
      "9.700000 139.206    -65.060    \n",
      "9.800000 132.602    -66.040    \n",
      "9.900000 125.900    -67.020    \n",
      "10.00000 119.100    -68.000    \n"
     ]
    }
   ],
   "source": [
    "caida_libre(-9.8,314, 30, 10, .1, tabla=True)"
   ]
  },
  {
   "cell_type": "code",
   "execution_count": null,
   "metadata": {
    "collapsed": true
   },
   "outputs": [],
   "source": []
  }
 ],
 "metadata": {
  "kernelspec": {
   "display_name": "Python 3",
   "language": "python",
   "name": "python3"
  },
  "language_info": {
   "codemirror_mode": {
    "name": "ipython",
    "version": 3
   },
   "file_extension": ".py",
   "mimetype": "text/x-python",
   "name": "python",
   "nbconvert_exporter": "python",
   "pygments_lexer": "ipython3",
   "version": "3.6.1"
  },
  "widgets": {
   "state": {
    "953c92b52019446ea21b2c969ac3716b": {
     "views": [
      {
       "cell_index": 11
      }
     ]
    },
    "9a6935292a92418a8d3ef2a4f90b19bd": {
     "views": [
      {
       "cell_index": 5
      }
     ]
    }
   },
   "version": "1.2.0"
  }
 },
 "nbformat": 4,
 "nbformat_minor": 2
}
