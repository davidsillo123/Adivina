{
 "cells": [
  {
   "cell_type": "markdown",
   "metadata": {},
   "source": [
    "# Examen Módulo 2 - Simulación Monte Carlo. <font color =blue> Tipo de examen 1.  </font>\n",
    "\n",
    "Lea cuidadosamente las siguientes indicaciones antes de comenzar el examen:\n",
    "\n",
    "- Para resolver el examen edite este mismo archivo y renómbrelo de la siguiente manera: *Examen1_ApellidoNombre*, donde *ApellidoNombre* corresponde a su apellido paterno con la inicial en mayúscula, seguido de su primer nombre con la inicial en mayúscula **sin acentos**. Por ejemplo, en mi caso el nombre del archivo sería Examen1_LopezMichel.\n",
    "- Resuelva los puntos en el espacio provisto. Si requiere agregar más celdas para código o escritura, hágalo.\n",
    "- Recuerde que también se está evaluando su capacidad de interpretar los resultados. Escriba sus interpretaciones/conclusiones en celdas utilizando *Markdown*.\n",
    "- El formato de presentación de todo el examen en general debe ser adecuado. Use tamaños de letra, colores, etiquetas, etcétera.\n",
    "- No se resuelven dudas de ningún tipo por los profesores de la asignatura. Por favor, absténgase de preguntar.\n",
    "- Revise bien el tipo de examen. Sólo se le calificará si realiza el tipo de examen asignado."
   ]
  },
  {
   "cell_type": "code",
   "execution_count": 2,
   "metadata": {},
   "outputs": [],
   "source": [
    "%matplotlib inline \n",
    "\n",
    "import math\n",
    "import numpy as np\n",
    "import pandas as pd\n",
    "\n",
    "from matplotlib import cm\n",
    "from matplotlib import pyplot as plt\n",
    "from mpl_toolkits.mplot3d import Axes3D\n",
    "\n",
    "from scipy.integrate import dblquad\n",
    "\n",
    "from collections import OrderedDict"
   ]
  },
  {
   "cell_type": "markdown",
   "metadata": {},
   "source": [
    "# Primer punto (50 puntos)\n",
    "\n",
    "## <font color = red> Problema 1 <font>\n",
    "\n",
    "### Evaluación numérica de integrales por el método Monte Carlo\n",
    "\n",
    "**1. (20 puntos)** \n",
    "\n",
    "Estimar la siguiente integral por el método Monte Carlo\n",
    "\n",
    "$$I = \\int_{0}^{1} \\int_{0}^{1} e^{(x + y)^2}\\ dx\\ dy$$"
   ]
  },
  {
   "cell_type": "markdown",
   "metadata": {},
   "source": [
    "---\n",
    "\n",
    "### El método de integración numérica Monte Carlo\n",
    "\n",
    "La integración _**Monte Carlo**_ es un método numérico para evaluar integrales definidas [[1](https://www.ime.usp.br/~jstern/miscellanea/LabSimulacao/EricVeach2.pdf), [2](http://www.math.chalmers.se/Stat/Grundutb/CTH/tms150/1112/MC.pdf), [3](http://physics.wm.edu/~evmik/classes/matlab_book/ch_integration/ch_integration.pdf)]. Sus principales ventajas son la simplicidad con la que puede ser implementado, así como su escalabilidad: mientras que los médotos clásicos para evaluar integrales definidas se vuelven más y más lentos conforme el número de dimensiones de la integral a estimar crece, la tasa de convergencia del método Monte Carlo depende no de la dimensión de la integral sino del número de muestras consideradas, lo que lo vuelve muy efectivo al evaluar integrales de alta dimensionalidad.\n",
    "\n",
    "Monte Carlo se basa en la toma de muestras aleatorias uniformemente distribuidas dentro del región (área, volumen, etc.) de interés, evaluándolas para obtener una aproximacón ponderada al valor de la integral definida:\n",
    "\n",
    "$$\\int_{V_D} f(\\overrightarrow{x})\\ dV_D = \\int_{V_D} f(\\overrightarrow{x})\\ dx_1\\ dx_2 \\ldots\\ dx_D \\approx \\frac{V_D}{N} \\sum_{i=1}^{N}\\ f(\\overrightarrow{x_i})$$\n",
    "\n",
    "donde $V_D$ es el volumen $D$-dimensional, y $\\overrightarrow{x_i}$ son puntos aleatoria y uniformemente distribuidos en el volumen $V_D$. El número de muestras consideradas $N$ juega un papel importante, pues entre mayor sea el número de muestras mayor será la exactitud de la aproximación.\n",
    "\n",
    "Para en el caso de integrales de 2 dimensiones, tenemos que\n",
    "\n",
    "$$\\int_{a_y}^{b_y} \\int_{a_x}^{b_x} f(x, y)\\ dx\\ dy \\approx \\frac{(b_x - a_x)(b_y - a_y)}{N} \\sum_{i=1}^{N}\\ f(x_i, y_i)$$\n",
    "\n",
    "La implementación es la siguiente:"
   ]
  },
  {
   "cell_type": "code",
   "execution_count": 3,
   "metadata": {},
   "outputs": [],
   "source": [
    "# ax, bx        Límites sup. e inf. de evaluación para dx.\n",
    "# ay, by        Límites sup. e inf. de evaluación para dy.\n",
    "# fn            Función cuya integral se busca estimar.\n",
    "# num_muestras  Lista con diferentes números de muestras N.\n",
    "# num_reps      Número de repeticiones (default: 100).\n",
    "def monte_carlo_int_num(ax, bx, ay, by, fn, num_muestras, num_reps=100):\n",
    "    '''\n",
    "    Evalua integrales multidimensionales definidas empleando el método numérico\n",
    "    de integración Monte Carlo, devolviendo una lista con diccionarios que asocian\n",
    "    N, Min, Max, y Promedio con sus respectivos valores obtenidos.\n",
    "    '''\n",
    "    \n",
    "    resultados = []  # Lista con los resultados (diccionarios).\n",
    "    \n",
    "    for N in num_muestras:\n",
    "        estimaciones = []  # Lista con las estimaciones.\n",
    "        \n",
    "        for _ in range(num_reps):\n",
    "            x = ax + (bx - ax) * np.random.rand(N)  # Arreglo con x_i's.\n",
    "            y = ay + (by - ay) * np.random.rand(N)  # Arreglo con y_i's\n",
    "\n",
    "            # Estima el valor de la función con x_i e y_i.\n",
    "            estimaciones.append((bx - ax) * (by - ay) * sum(fn(x, y)) / N)\n",
    "\n",
    "        # Anexa resultados a la lista de resultados.\n",
    "        resultados.append(OrderedDict([\n",
    "            ('N', N),\n",
    "            ('Min', min(estimaciones)),\n",
    "            ('Max', max(estimaciones)),\n",
    "            ('Promedio', np.mean(estimaciones))\n",
    "        ]))\n",
    "\n",
    "    # Devuelve resultados.\n",
    "    return resultados"
   ]
  },
  {
   "cell_type": "markdown",
   "metadata": {},
   "source": [
    "**2. (20 puntos)** \n",
    "\n",
    "Realice una tabla con la librería Pandas para los resultados de la integración Monte Carlo para la ecuación anterior realizando $100$ realizaciones para cada uno de los valores $N$ que se muestran en la tabla siguiente. Muestre el valor estimado de la integral promedio y el resultado de máximo y mínimo de las $100$ realizaciones.\n",
    "\n",
    "|N|min|promedio|max|\n",
    "|---|---|---|---|\n",
    "|10|*|*|*|\n",
    "|100|*|*|*|\n",
    "|1000|*|*|*|\n",
    "|10000|*|*|*|"
   ]
  },
  {
   "cell_type": "code",
   "execution_count": 4,
   "metadata": {},
   "outputs": [
    {
     "data": {
      "text/html": [
       "<div>\n",
       "<style scoped>\n",
       "    .dataframe tbody tr th:only-of-type {\n",
       "        vertical-align: middle;\n",
       "    }\n",
       "\n",
       "    .dataframe tbody tr th {\n",
       "        vertical-align: top;\n",
       "    }\n",
       "\n",
       "    .dataframe thead th {\n",
       "        text-align: right;\n",
       "    }\n",
       "</style>\n",
       "<table border=\"1\" class=\"dataframe\">\n",
       "  <thead>\n",
       "    <tr style=\"text-align: right;\">\n",
       "      <th></th>\n",
       "      <th>N</th>\n",
       "      <th>Min</th>\n",
       "      <th>Max</th>\n",
       "      <th>Promedio</th>\n",
       "    </tr>\n",
       "  </thead>\n",
       "  <tbody>\n",
       "    <tr>\n",
       "      <th>0</th>\n",
       "      <td>10</td>\n",
       "      <td>2.255777</td>\n",
       "      <td>13.265720</td>\n",
       "      <td>5.076367</td>\n",
       "    </tr>\n",
       "    <tr>\n",
       "      <th>1</th>\n",
       "      <td>100</td>\n",
       "      <td>3.305376</td>\n",
       "      <td>6.594138</td>\n",
       "      <td>4.871240</td>\n",
       "    </tr>\n",
       "    <tr>\n",
       "      <th>2</th>\n",
       "      <td>1000</td>\n",
       "      <td>4.311334</td>\n",
       "      <td>5.303395</td>\n",
       "      <td>4.875365</td>\n",
       "    </tr>\n",
       "    <tr>\n",
       "      <th>3</th>\n",
       "      <td>10000</td>\n",
       "      <td>4.733155</td>\n",
       "      <td>5.026860</td>\n",
       "      <td>4.892369</td>\n",
       "    </tr>\n",
       "  </tbody>\n",
       "</table>\n",
       "</div>"
      ],
      "text/plain": [
       "       N       Min        Max  Promedio\n",
       "0     10  2.255777  13.265720  5.076367\n",
       "1    100  3.305376   6.594138  4.871240\n",
       "2   1000  4.311334   5.303395  4.875365\n",
       "3  10000  4.733155   5.026860  4.892369"
      ]
     },
     "execution_count": 4,
     "metadata": {},
     "output_type": "execute_result"
    }
   ],
   "source": [
    "fn = lambda x, y: np.exp((x + y) ** 2)  # Función f(x, y) a integrar.\n",
    "num_muestras = 10 ** np.array([1, 2, 3, 4])  # Valores de N (10, 100, 1000, 10000).\n",
    "\n",
    "# Obten los resultados de la evaluación para cada N.\n",
    "resultados = monte_carlo_int_num(0, 1, 0, 1, fn, num_muestras)\n",
    "\n",
    "# Convierte los datos obtenidos a tabla de Pandas.\n",
    "df = pd.DataFrame(resultados)\n",
    "\n",
    "# Imprime la tabla.\n",
    "df.head()"
   ]
  },
  {
   "cell_type": "markdown",
   "metadata": {},
   "source": [
    "La tabla obtenida nos confirma lo establecido anteriormente: entre más muestras consideremos, la aproximación se vuelve más exacta. Esto lo podemos corroborar obteniendo el valor verdadero de la integral definida y comparándolo con el valor más exacto obtenido por el método Monte Carlo:"
   ]
  },
  {
   "cell_type": "code",
   "execution_count": 5,
   "metadata": {},
   "outputs": [
    {
     "name": "stdout",
     "output_type": "stream",
     "text": [
      "El error relativo es: 0.1386%.\n"
     ]
    }
   ],
   "source": [
    "resultado_monte_carlo = resultados[-1]['Promedio']  # Promedio para N = 10,000 muestras.\n",
    "resultado_real = dblquad(fn, 0, 1, lambda x: 0, lambda x: 1)[0]\n",
    "\n",
    "error_absoluto = abs(resultado_monte_carlo - resultado_real)\n",
    "error_relativo = error_absoluto * 100 / resultado_real\n",
    "\n",
    "print('El error relativo es: {:.4f}%.'.format(error_relativo))"
   ]
  },
  {
   "cell_type": "markdown",
   "metadata": {},
   "source": [
    "Como podemos ver, para $N = 10000$ muestras, el error en la aproximación por el método Monte Carlo está por debajo del 1%."
   ]
  },
  {
   "cell_type": "markdown",
   "metadata": {},
   "source": [
    "**3. (10 puntos)** \n",
    "\n",
    "Grafique la funcion a integrar."
   ]
  },
  {
   "cell_type": "code",
   "execution_count": 6,
   "metadata": {
    "scrolled": true
   },
   "outputs": [
    {
     "data": {
      "image/png": "[encoded data removed]",
      "text/plain": [
       "<matplotlib.figure.Figure at 0x10b4eac18>"
      ]
     },
     "metadata": {},
     "output_type": "display_data"
    }
   ],
   "source": [
    "fig = plt.figure()\n",
    "ax = plt.axes(projection='3d')\n",
    "\n",
    "x = np.linspace(0, 1, 30)  # Usa 30 x's en [0, 1] espaciadas uniformemente.\n",
    "y = np.linspace(0, 1, 30)  # Usa 30 y's en [0, 1] espaciadas uniformemente.\n",
    "X, Y = np.meshgrid(x, y)\n",
    "\n",
    "# Evalua la función usando los puntos seleccionados.\n",
    "Z = fn(X, Y)\n",
    "\n",
    "# Grafica la función en forma de superficie, con escala de colores.\n",
    "surf = ax.plot_surface(X, Y, Z, cmap=cm.jet, linewidth=0, antialiased=False)\n",
    "\n",
    "# Coloca título encima de la gráfica y leyendas en los ejes.\n",
    "plt.title('$f(x, y) = e^{(x + y)^{2}}$')\n",
    "ax.set_xlabel('$x$')\n",
    "ax.set_ylabel('$y$')\n",
    "\n",
    "# Coloca junto a la gráfica una barra que asocia colores con valores.\n",
    "fig.colorbar(surf, shrink=0.5, aspect=5)\n",
    "\n",
    "# Dibuja la gráfica.\n",
    "plt.show()"
   ]
  },
  {
   "cell_type": "markdown",
   "metadata": {},
   "source": [
    "# Segundo punto (50 puntos)\n",
    "\n",
    "## Ley del enfriamiento de Newton\n",
    "\n",
    "La ley empírica de Newton, relativa al enfriamiento de un objeto, se expresa con la ecuación diferencial lineal de primer orden\n",
    "\n",
    "$$\\frac{dT}{dt} = k(T - T_m) $$\n",
    "\n",
    "en que $k$ es una constante de proporcionalidad, $T(t)$ es la temperatura del objeto cuando $t > 0$ y $T_m$ es la temperatura ambiente; o sea, la temperatura del medio que rodea al objeto. Supondremos que $T_m$ es constante."
   ]
  },
  {
   "cell_type": "markdown",
   "metadata": {},
   "source": [
    "## <font color = red> Problema 2 <font>\n",
    "\n",
    "### ¿Cuánto esperar para tomar el café?\n",
    "\n",
    "Primero calentamos agua a $80°\\ C$. Posteriormente agregamos café al vaso con el agua caliente. Después realizamos la medición de la temperatura ambiente, la cual fue de $24°\\ C$. Realiza las siguientes actividades:\n",
    "\n",
    "**1. (5 puntos)**\n",
    "\n",
    "- Simule el sistema en un tiempo de $0$ a $120$ unidades de tiempo  con una constante de proporcionalidad $k = -0.0565$.\n",
    "- Grafique la solución."
   ]
  },
  {
   "cell_type": "markdown",
   "metadata": {},
   "source": [
    "---\n",
    "\n",
    "La _**ley de enfriamiento de Newton**_ establece que la rapidez de enfriamiento de un objeto es proporcional a la diferencia de temperatura entre el objeto y su ambiente, siempre que esta diferencia no sea muy grande. Por medio de una simple sustitución de variables, podemos reducir la ley de Newton a una instancia de la _**ley de decaimiento natural**_ (cuando $k < 0$) y así encontrar una solución cerrada a la ecuación diferencial. Tomando $y = T - T_m$, $y(0) = T(0) - T_m$. Sustituyendo $T$ por $y$ obtenemos\n",
    "\n",
    "$$\\frac{dy}{dt} = k y$$\n",
    "\n",
    "cuya solución, por la ley de decaimiento natural, es\n",
    "\n",
    "$$y = y(0)\\ e^{kt}$$\n",
    "\n",
    "sustituyendo de vuelta $y$ por $T$ y despejando para $T$, obtenemos\n",
    "\n",
    "$$T = T_m + (T(0) - T_m)\\ e^{kt}$$\n",
    "\n",
    "La implementación es:"
   ]
  },
  {
   "cell_type": "code",
   "execution_count": 7,
   "metadata": {},
   "outputs": [],
   "source": [
    "# t           Intervalo de tiempo a evaluar.\n",
    "# T_0         Temperatura inicial.\n",
    "# T_m         Temperatura ambiente.\n",
    "# const_prop  Constante de proporcionalidad (fija).\n",
    "def enfriamiento_newton(t, T_0, T_m, const_prop):\n",
    "    \"\"\"\n",
    "    Modela el enfriamiento de un objeto empleando la ley empírica de Newton.\n",
    "    \"\"\"\n",
    "    \n",
    "    T = T_m + (T_0 - T_m) * np.exp(const_prop * t)\n",
    "    \n",
    "    return T"
   ]
  },
  {
   "cell_type": "code",
   "execution_count": 8,
   "metadata": {},
   "outputs": [],
   "source": [
    "def muestra_graficas():\n",
    "    # Coloca título encima de la gráfica y leyendas en los ejes.\n",
    "    plt.title('Enfriamiento del café')\n",
    "    plt.xlabel('Unidades de tiempo')\n",
    "    plt.ylabel('Temperatura')\n",
    "\n",
    "    # Dibuja cuadricula y ajusta rango de los ejes.\n",
    "    axes = plt.gca()\n",
    "    axes.set_xlim([0, t_f])\n",
    "    axes.set_ylim([0, 100])\n",
    "    plt.grid(True, lw=0.5, ls='--', c='0.75')\n",
    "\n",
    "    # Dibuja la gráfica.\n",
    "    plt.legend()\n",
    "    plt.show()"
   ]
  },
  {
   "cell_type": "code",
   "execution_count": 9,
   "metadata": {},
   "outputs": [
    {
     "data": {
      "image/png": "[encoded data removed]",
      "text/plain": [
       "<matplotlib.figure.Figure at 0x10c04a470>"
      ]
     },
     "metadata": {},
     "output_type": "display_data"
    }
   ],
   "source": [
    "T_0, T_m = 80, 24  # Temperaturas inicial y ambiente.\n",
    "k = -0.0565  # Constante de proporcionalidad.\n",
    "\n",
    "t_0, t_f = 0, 120  # Intervalo de tiempo en el que el sistema será simulado.\n",
    "t = np.linspace(t_0, t_f, t_f - t_0 + 1)\n",
    "\n",
    "# Simula el sistema en el intervalo de tiempo seleccionado.\n",
    "T = enfriamiento_newton(t, T_0, T_m, k)\n",
    "\n",
    "# Grafica el comportamiento del sistema.\n",
    "plt.plot(t, T, label='Temperatura del café')\n",
    "\n",
    "# Grafica la temperatura ambiente como referencia.\n",
    "plt.plot(t, T_m * np.ones(t_f - t_0 + 1), label='Temperatura ambiente', color='red')\n",
    "\n",
    "# Dibuja las graficas.\n",
    "muestra_graficas()"
   ]
  },
  {
   "cell_type": "markdown",
   "metadata": {},
   "source": [
    "**2. (20 puntos)**\n",
    "\n",
    "- Supoga que cada unidad de tiempo corresponde a un minuto. ¿Qué temperatura tiene en el minuto $40$?\n",
    "- Ahora simula tu sistema utilizando una variable aleatoria para la temperatura inicial $T_0$ con una distribución normal de media $80$ y una desviación estándar de $5$. Realiza $100$ realizaciones.\n",
    "- Grafica las $100$ realizaciones."
   ]
  },
  {
   "cell_type": "code",
   "execution_count": 10,
   "metadata": {},
   "outputs": [
    {
     "data": {
      "image/png": "[encoded data removed]",
      "text/plain": [
       "<matplotlib.figure.Figure at 0x10c0b9b38>"
      ]
     },
     "metadata": {},
     "output_type": "display_data"
    }
   ],
   "source": [
    "num_reps = 100  # 100 realizaciones.\n",
    "temps = []  # Lista de lecturas de temperatura.\n",
    "\n",
    "for _ in range(num_reps):\n",
    "    # Utiliza una variable aleatoria normalmente distribuida,\n",
    "    # media: 80, desv. est: 5, como temperatura inicial.\n",
    "    T_0 = np.random.normal(80.0, 5.0)\n",
    "\n",
    "    # Simula el sistema en el intervalo de tiempo seleccionado.\n",
    "    T = enfriamiento_newton(t, T_0, T_m, k)\n",
    "    \n",
    "    # Para t_0 = 0 y t_f = 120, en total tenemos 121 puntos que corresponden a las unidades\n",
    "    # de tiempo [0, 1, ..., 120]. Así, podemos acceder a la temperatura del café por minuto.\n",
    "    \n",
    "    # Almacena las temperaturas en el minuto 40 para obtener su promedio en el siguiente punto.\n",
    "    temps.append(T[40])\n",
    "\n",
    "    # Grafica el comportamiento del sistema.\n",
    "    plt.plot(t, T)\n",
    "\n",
    "# Grafica la temperatura ambiente como referencia.\n",
    "plt.plot(t, T_m * np.ones(t_f - t_0 + 1), label='Temperatura ambiente', color='red')\n",
    "\n",
    "# Dibuja las graficas.\n",
    "muestra_graficas()"
   ]
  },
  {
   "cell_type": "markdown",
   "metadata": {},
   "source": [
    "**3. (25 puntos)**\n",
    "\n",
    "- De las $100$ realizaciones, ¿cuál es la temperatura promedio en el minuto $40$?\n",
    "- ¿Cuál es la desviación estándar de los valores anteriores?"
   ]
  },
  {
   "cell_type": "code",
   "execution_count": 11,
   "metadata": {},
   "outputs": [
    {
     "name": "stdout",
     "output_type": "stream",
     "text": [
      "La temperatura promedio en el minuto 40 es: 29.9138º C.\n",
      "La desviación estandar es: 0.4909º C.\n"
     ]
    }
   ],
   "source": [
    "# La lista 'temps' contiene 100 lecturas de temperatura en el minuto 40.\n",
    "\n",
    "print('La temperatura promedio en el minuto 40 es: {:.4f}º C.'.format(np.mean(temps)))\n",
    "print('La desviación estandar es: {:.4f}º C.'.format(np.std(temps)))"
   ]
  },
  {
   "cell_type": "markdown",
   "metadata": {},
   "source": [
    "<script>\n",
    "  $(document).ready(function(){\n",
    "    $('div.prompt').hide();\n",
    "    $('div.back-to-top').hide();\n",
    "    $('nav#menubar').hide();\n",
    "    $('.breadcrumb').hide();\n",
    "    $('.hidden-print').hide();\n",
    "  });\n",
    "</script>\n",
    "\n",
    "<footer id=\"attribution\" style=\"float:right; color:#808080; background:#fff;\">\n",
    "Created with Jupyter by Michel Emanuel López Franco.\n",
    "</footer>"
   ]
  }
 ],
 "metadata": {
  "hide_input": false,
  "kernelspec": {
   "display_name": "Python 3",
   "language": "python",
   "name": "python3"
  },
  "language_info": {
   "codemirror_mode": {
    "name": "ipython",
    "version": 3
   },
   "file_extension": ".py",
   "mimetype": "text/x-python",
   "name": "python",
   "nbconvert_exporter": "python",
   "pygments_lexer": "ipython3",
   "version": "3.6.3"
  },
  "toc": {
   "nav_menu": {},
   "number_sections": true,
   "sideBar": true,
   "skip_h1_title": false,
   "toc_cell": false,
   "toc_position": {},
   "toc_section_display": "block",
   "toc_window_display": false
  },
  "varInspector": {
   "cols": {
    "lenName": 16,
    "lenType": 16,
    "lenVar": 40
   },
   "kernels_config": {
    "python": {
     "delete_cmd_postfix": "",
     "delete_cmd_prefix": "del ",
     "library": "var_list.py",
     "varRefreshCmd": "print(var_dic_list())"
    },
    "r": {
     "delete_cmd_postfix": ") ",
     "delete_cmd_prefix": "rm(",
     "library": "var_list.r",
     "varRefreshCmd": "cat(var_dic_list()) "
    }
   },
   "types_to_exclude": [
    "module",
    "function",
    "builtin_function_or_method",
    "instance",
    "_Feature"
   ],
   "window_display": false
  },
  "widgets": {
   "state": {
    "953c92b52019446ea21b2c969ac3716b": {
     "views": [
      {
       "cell_index": 11
      }
     ]
    },
    "9a6935292a92418a8d3ef2a4f90b19bd": {
     "views": [
      {
       "cell_index": 5
      }
     ]
    }
   },
   "version": "1.2.0"
  }
 },
 "nbformat": 4,
 "nbformat_minor": 2
}
